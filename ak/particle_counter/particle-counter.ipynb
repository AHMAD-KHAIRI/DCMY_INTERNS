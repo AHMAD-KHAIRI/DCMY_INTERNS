{
 "cells": [
  {
   "cell_type": "markdown",
   "metadata": {},
   "source": [
    "# Reading a Particle Counter"
   ]
  },
  {
   "cell_type": "markdown",
   "metadata": {},
   "source": [
    "Here, I am attempting to establish communication between ctrlX CORE X3 from Bosch Rexroth with a Particle Counter monitoring system made by Hydrotechnik.\n",
    "\n",
    "**Patrick**\n",
    "\n",
    "Patrick is an optical particle counter for stationary use, operating on the principle of light obscuration. By continuously monitoring purity, variances in a machine can be detected quickly and appropriate measures can be taken. Data transmission via CAN, USB (adapter) or RS232. Display of cleanliness level in accordance with ISO 4406:99 / SAE AS 4059 / NAS 1638 / GOST 17216.\n",
    "\n",
    "**Patrick in the Box**\n",
    "\n",
    "The optical particle counter for mobile applications. Thanks to the integrated gear pump, samples from oil tanks or sample bottles can be analyzed on site for their degree of contamination, eliminating the need to physically send in oil samples. As a result, maintenance work can be tailored to individual requirements, depending on the degree of cleanliness. Use Patrick in the Box for mineral oils (e.g. HLP), ester liquids (e.g. HEES), bio-oils (e.g. HETG) or diesel fuels.\n",
    "\n",
    "https://www.hydrotechnik.com/en/products/measuring-devices-software/measuring-devices/particle-counter"
   ]
  },
  {
   "cell_type": "markdown",
   "metadata": {},
   "source": [
    "## Technical Data\n",
    "\n",
    "* Optical particle monitor \n",
    "* Measuring principle: light extinction \n",
    "\n",
    "**Description**\n",
    "\n",
    "The particle monitor Patrick detect the pollution level and the trend of purity of fluids.  \n",
    "The particle monitor is calibrated with test dust in accordance to ISO 11943. \n",
    "The measuring principle of Patrick is carried out by the principle of the light extinction.  \n",
    "The indication of the cleanliness level is either in accordance with:  \n",
    "* ISO4406:99 \n",
    "* SAE AS4059E \n",
    "* NAS 1638 \n",
    "* GOST 17216 \n",
    "\n",
    "**Function**\n",
    "\n",
    "The particle monitor consists of a measuring cell, a laser beam and a photodiode.  \n",
    "The laser beam passes through the measuring cell and hits the photodiode.  \n",
    "If a particle crosses the laser beam, the intensity detected by the photodiode decreases depending on the size of the particle \n",
    "\n",
    "**Designated use**\n",
    "\n",
    "Measurement of contamination in hydraulic and oil industry with nonaggressive fluids.  \n",
    "By continuous monitoring of the purity changes can be detected very quickly. \n",
    "For measuring and monitoring the particle contamination in hydraulic systems and bottle samples. \n",
    "\n",
    "**Warning notices**\n",
    "\n",
    "Connect to pressure line above 36 psi (2.482 bar) only with using the pressure reducing valve!\n",
    "\n",
    "**Electrical characteristics**\n",
    "\n",
    "* Signal out: 4...20 mA\n",
    "* Interface: RS232, CanOpen\n",
    "* Memory: 3072 measurement\n",
    "* Run time: 3 h\n",
    "* Charge time: 2 h (80%), 5 h (100%)\n",
    "* Calibration frequency: 12 month\n",
    "\n",
    "**Application instruction**\n",
    "\n",
    "* Offline sample should not be pulled directly from the sump in the tank \n",
    "* Purging well enough to remove air or previous fluid \n",
    "\n",
    "\n"
   ]
  },
  {
   "cell_type": "markdown",
   "metadata": {},
   "source": []
  }
 ],
 "metadata": {
  "kernelspec": {
   "display_name": "base",
   "language": "python",
   "name": "python3"
  },
  "language_info": {
   "name": "python",
   "version": "3.11.7"
  }
 },
 "nbformat": 4,
 "nbformat_minor": 2
}
