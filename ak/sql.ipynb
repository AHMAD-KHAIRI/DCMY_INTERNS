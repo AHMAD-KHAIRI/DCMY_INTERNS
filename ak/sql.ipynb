{
 "cells": [
  {
   "cell_type": "markdown",
   "metadata": {},
   "source": [
    "# Structured Query Language (SQL)"
   ]
  },
  {
   "cell_type": "markdown",
   "metadata": {
    "vscode": {
     "languageId": "plaintext"
    }
   },
   "source": [
    "## Where To Learn SQL"
   ]
  },
  {
   "cell_type": "markdown",
   "metadata": {},
   "source": [
    "**1. SQLZoo: The Wikipedia of SQL Learning** https://sqlzoo.net/wiki/SQL_Tutorial"
   ]
  },
  {
   "cell_type": "markdown",
   "metadata": {
    "vscode": {
     "languageId": "plaintext"
    }
   },
   "source": [
    "**2. SQLBolt**\n",
    "https://sqlbolt.com/"
   ]
  },
  {
   "cell_type": "markdown",
   "metadata": {},
   "source": [
    "## Database Management Systems (DBMS)\n",
    "\n",
    "[Comparing MySQL, PostgreSQL, and MongoDB](https://vercel.com/guides/mysql-vs-postgresql-vs-mongodb)"
   ]
  },
  {
   "cell_type": "markdown",
   "metadata": {},
   "source": [
    "**1. MySQL**"
   ]
  },
  {
   "cell_type": "markdown",
   "metadata": {},
   "source": [
    "**2. PostgreSQL**"
   ]
  },
  {
   "cell_type": "markdown",
   "metadata": {},
   "source": [
    "**3. InfluxDB**"
   ]
  },
  {
   "cell_type": "markdown",
   "metadata": {},
   "source": [
    "**4. MongoDB**"
   ]
  },
  {
   "cell_type": "markdown",
   "metadata": {
    "vscode": {
     "languageId": "plaintext"
    }
   },
   "source": [
    "## Process for planning and designing a database before you create the SQL Database and Tables"
   ]
  },
  {
   "cell_type": "markdown",
   "metadata": {},
   "source": [
    "**1. Identify and understand the main objects in your project**\n",
    "\n",
    "Define the columns, table names, data types, relationship between tables, \n",
    "\n",
    "Example:\n",
    "* Machine name: Pump Test Bench\n",
    "* Oil Temperature: °C\n",
    "* Hydraulic System Pressure: bar\n",
    "* Hydraulic System Flow Rate: l/min\n",
    "* Electric Motor Speed: RPM\n",
    "* Ambient Temperature: °C\n",
    "* Humidity: rH\n",
    "* Ambient Noise: \n",
    "* Vibration: "
   ]
  },
  {
   "cell_type": "markdown",
   "metadata": {},
   "source": [
    "**2. Ask questions**\n",
    "\n",
    "Example:\n",
    "* What is the relationship between A and B?\n",
    "* If A changes, does B stays the same or not?\n",
    "* What is the impact?"
   ]
  },
  {
   "cell_type": "markdown",
   "metadata": {},
   "source": [
    "**2. Sketch the tables**\n",
    "\n",
    "Example:\n",
    "* Lucid: https://www.lucidchart.com/pages/database-diagram/database-design\n",
    "* Sqldbm: https://sqldbm.com/"
   ]
  },
  {
   "cell_type": "markdown",
   "metadata": {},
   "source": [
    "**3. Draft the SQL statements that will create your database**\n",
    "\n",
    "`CREATE TABLE, INSERT INTO,`\n"
   ]
  },
  {
   "cell_type": "markdown",
   "metadata": {},
   "source": [
    "## Example in Python"
   ]
  },
  {
   "cell_type": "code",
   "execution_count": 2,
   "metadata": {},
   "outputs": [],
   "source": [
    "# # Example 1 : Create an SQLite database to store our book data\n",
    "# import sqlite3\n",
    "\n",
    "# # create a SQLite database called \"books-collection\"\n",
    "# db = sqlite3.connect(\"books-collection.db\")\n",
    "\n",
    "# # create a \"cursor\" to control our database. The cursor will be used to modify our SQLite database.\n",
    "# cursor = db.cursor()\n",
    "\n",
    "# # create a table called \"books\"\n",
    "# # cursor.execute(\"CREATE TABLE books (id INTEGER PRIMARY KEY, title varchar(250) NOT NULL UNIQUE, author varchar(250) NOT NULL, rating FLOAT NOT NULL)\")\n",
    "\n",
    "# # insert data into the table \n",
    "# # NOTE: the create a table code above must be commented out before we insert data into the table\n",
    "# cursor.execute(\"INSERT INTO books VALUES(2, 'Elon Musk', 'Ashlee Vance', '9.5')\")\n",
    "# db.commit()"
   ]
  },
  {
   "cell_type": "code",
   "execution_count": null,
   "metadata": {},
   "outputs": [],
   "source": []
  }
 ],
 "metadata": {
  "kernelspec": {
   "display_name": "base",
   "language": "python",
   "name": "python3"
  },
  "language_info": {
   "codemirror_mode": {
    "name": "ipython",
    "version": 3
   },
   "file_extension": ".py",
   "mimetype": "text/x-python",
   "name": "python",
   "nbconvert_exporter": "python",
   "pygments_lexer": "ipython3",
   "version": "3.11.7"
  }
 },
 "nbformat": 4,
 "nbformat_minor": 2
}
