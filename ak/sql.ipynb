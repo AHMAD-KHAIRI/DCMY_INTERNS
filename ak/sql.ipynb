{
 "cells": [
  {
   "cell_type": "markdown",
   "metadata": {},
   "source": [
    "# Structured Query Language (SQL)"
   ]
  },
  {
   "cell_type": "markdown",
   "metadata": {
    "vscode": {
     "languageId": "plaintext"
    }
   },
   "source": [
    "## Where To Learn SQL"
   ]
  },
  {
   "cell_type": "markdown",
   "metadata": {},
   "source": [
    "**1. SQLZoo: The Wikipedia of SQL Learning** https://sqlzoo.net/wiki/SQL_Tutorial"
   ]
  },
  {
   "cell_type": "markdown",
   "metadata": {
    "vscode": {
     "languageId": "plaintext"
    }
   },
   "source": [
    "**2. SQLBolt**\n",
    "https://sqlbolt.com/"
   ]
  },
  {
   "cell_type": "markdown",
   "metadata": {},
   "source": [
    "## Database Management Systems (DBMS)\n",
    "\n",
    "[Comparing MySQL, PostgreSQL, and MongoDB](https://vercel.com/guides/mysql-vs-postgresql-vs-mongodb)"
   ]
  },
  {
   "cell_type": "markdown",
   "metadata": {},
   "source": [
    "**1. MySQL**"
   ]
  },
  {
   "cell_type": "markdown",
   "metadata": {},
   "source": [
    "**2. PostgreSQL**"
   ]
  },
  {
   "cell_type": "markdown",
   "metadata": {},
   "source": [
    "**3. InfluxDB**"
   ]
  },
  {
   "cell_type": "markdown",
   "metadata": {},
   "source": [
    "**4. MongoDB**"
   ]
  },
  {
   "cell_type": "markdown",
   "metadata": {
    "vscode": {
     "languageId": "plaintext"
    }
   },
   "source": [
    "## Process for planning and designing a database before you create the SQL Database and Tables"
   ]
  },
  {
   "cell_type": "markdown",
   "metadata": {},
   "source": [
    "**1. Identify and understand the main objects in your project**\n",
    "\n",
    "Define the columns, table names, data types, relationship between tables, \n",
    "\n",
    "Example:\n",
    "* Machine name: Pump Test Bench\n",
    "* Oil Temperature: °C\n",
    "* Hydraulic System Pressure: bar\n",
    "* Hydraulic System Flow Rate: l/min\n",
    "* Electric Motor Speed: RPM\n",
    "* Ambient Temperature: °C\n",
    "* Humidity: rH\n",
    "* Ambient Noise: \n",
    "* Vibration: "
   ]
  },
  {
   "cell_type": "markdown",
   "metadata": {},
   "source": [
    "**2. Ask questions**\n",
    "\n",
    "Example:\n",
    "* What is the relationship between A and B?\n",
    "* If A changes, does B stays the same or not?\n",
    "* What is the impact?"
   ]
  },
  {
   "cell_type": "markdown",
   "metadata": {},
   "source": [
    "**2. Sketch the tables**\n",
    "\n",
    "Example:\n",
    "* Lucid: https://www.lucidchart.com/pages/database-diagram/database-design\n",
    "* Sqldbm: https://sqldbm.com/"
   ]
  },
  {
   "cell_type": "markdown",
   "metadata": {},
   "source": [
    "**3. Draft the SQL statements that will create your database**\n",
    "\n",
    "`CREATE TABLE, DROP TABLE, INSERT INTO, SELECT, JOIN, WHERE, `\n"
   ]
  },
  {
   "cell_type": "markdown",
   "metadata": {},
   "source": [
    "* To retrieve data from a SQL database, we need to write `SELECT` statements (referred to as *queries*).\n",
    "\n",
    "    Given a table of data, we can query for a specific columns:\n",
    "\n",
    "    `SELECT column, another_column, ... FROM mytable`\n",
    "\n",
    "    We can query all columns of data from a table:\n",
    "\n",
    "    `SELECT * FROM mytable`"
   ]
  },
  {
   "cell_type": "markdown",
   "metadata": {},
   "source": [
    "* To filter certain results from being returned, we need to use `WHERE` clause in the query.\n",
    "\n",
    "    `SELECT column, another_column, ... FROM mytable WHERE condition AND/OR another_condition AND/OR ...;`\n",
    "\n",
    "    Below are some useful operators to use for numerical data (integer or floating point)"
   ]
  },
  {
   "cell_type": "code",
   "execution_count": 2,
   "metadata": {},
   "outputs": [
    {
     "data": {
      "text/html": [
       "<div>\n",
       "<style scoped>\n",
       "    .dataframe tbody tr th:only-of-type {\n",
       "        vertical-align: middle;\n",
       "    }\n",
       "\n",
       "    .dataframe tbody tr th {\n",
       "        vertical-align: top;\n",
       "    }\n",
       "\n",
       "    .dataframe thead th {\n",
       "        text-align: right;\n",
       "    }\n",
       "</style>\n",
       "<table border=\"1\" class=\"dataframe\">\n",
       "  <thead>\n",
       "    <tr style=\"text-align: right;\">\n",
       "      <th></th>\n",
       "      <th>Operator</th>\n",
       "      <th>Condition</th>\n",
       "      <th>SQL Example</th>\n",
       "    </tr>\n",
       "  </thead>\n",
       "  <tbody>\n",
       "    <tr>\n",
       "      <th>0</th>\n",
       "      <td>=, !=, &lt;, &lt;=, &gt;, &gt;=</td>\n",
       "      <td>Standard numerical operators</td>\n",
       "      <td>col_name != 4</td>\n",
       "    </tr>\n",
       "    <tr>\n",
       "      <th>1</th>\n",
       "      <td>BETWEEN … AND …</td>\n",
       "      <td>Number is within range of two values (inclusive)</td>\n",
       "      <td>col_name BETWEEN 1.5 AND 10.5</td>\n",
       "    </tr>\n",
       "    <tr>\n",
       "      <th>2</th>\n",
       "      <td>NOT BETWEEN … AND …</td>\n",
       "      <td>Number is not within range of two values (inclusive)</td>\n",
       "      <td>col_name NOT BETWEEN 1 AND 10</td>\n",
       "    </tr>\n",
       "    <tr>\n",
       "      <th>3</th>\n",
       "      <td>IN (…)</td>\n",
       "      <td>Number exists in a list</td>\n",
       "      <td>col_name IN (2, 4, 6)</td>\n",
       "    </tr>\n",
       "    <tr>\n",
       "      <th>4</th>\n",
       "      <td>NOT IN (…)</td>\n",
       "      <td>Number does not exist in a list</td>\n",
       "      <td>col_name NOT IN (1, 3, 5)</td>\n",
       "    </tr>\n",
       "  </tbody>\n",
       "</table>\n",
       "</div>"
      ],
      "text/plain": [
       "              Operator                                             Condition  \\\n",
       "0  =, !=, <, <=, >, >=  Standard numerical operators                           \n",
       "1  BETWEEN … AND …      Number is within range of two values (inclusive)       \n",
       "2  NOT BETWEEN … AND …  Number is not within range of two values (inclusive)   \n",
       "3  IN (…)               Number exists in a list                                \n",
       "4  NOT IN (…)           Number does not exist in a list                        \n",
       "\n",
       "                     SQL Example  \n",
       "0  col_name != 4                  \n",
       "1  col_name BETWEEN 1.5 AND 10.5  \n",
       "2  col_name NOT BETWEEN 1 AND 10  \n",
       "3  col_name IN (2, 4, 6)          \n",
       "4  col_name NOT IN (1, 3, 5)      "
      ]
     },
     "execution_count": 2,
     "metadata": {},
     "output_type": "execute_result"
    }
   ],
   "source": [
    "import pandas as pd\n",
    "\n",
    "pd.set_option(\"display.max_colwidth\", 1)\n",
    "\n",
    "data = [\n",
    "(\"=, !=, <, <=, >, >=\",\t\"Standard numerical operators\",\t\"col_name != 4\"),\n",
    "(\"BETWEEN … AND …\",\t\"Number is within range of two values (inclusive)\",\t\"col_name BETWEEN 1.5 AND 10.5\"),\n",
    "(\"NOT BETWEEN … AND …\",\t\"Number is not within range of two values (inclusive)\",\t\"col_name NOT BETWEEN 1 AND 10\"),\n",
    "(\"IN (…)\",\t\"Number exists in a list\",\t\"col_name IN (2, 4, 6)\"),\n",
    "(\"NOT IN (…)\",\t\"Number does not exist in a list\", \"col_name NOT IN (1, 3, 5)\")\n",
    "]\n",
    "\n",
    "df = pd.DataFrame(data, columns=[\"Operator\", \"Condition\", \"SQL Example\"])\n",
    "\n",
    "df"
   ]
  },
  {
   "cell_type": "markdown",
   "metadata": {},
   "source": [
    "Examples:\n",
    "\n",
    "1. Find the temperature with a row **Id** of 6 --> `SELECT * FROM temp_table WHERE Id = 6;`\n",
    "\n",
    "2. Find the price in the **year**s between 2000 and 2010 --> `SELECT * FROM sale_table WHERE year BETWEEN 2000 AND 2010;`\n",
    "\n",
    "3. Find the price not in the **year**s between 2000 and 2010 --> `SELECT * FROM sale_table WHERE year NOT BETWEEN 2000 AND 2010;`\n",
    "\n",
    "4. Find the first 5 hydraulic oil pressure and their timestamp --> `SELECT * FROM pressure_table WHERE Id BETWEEN 1 AND 5;`"
   ]
  },
  {
   "cell_type": "markdown",
   "metadata": {},
   "source": [
    "* When writing **WHERE** clauses with columns containing text data, SQL supports operators to do things like case-sensitive string comparison and wildcard pattern matching.\n",
    "\n",
    "    A few common text-data specific operators:"
   ]
  },
  {
   "cell_type": "code",
   "execution_count": 3,
   "metadata": {},
   "outputs": [
    {
     "data": {
      "text/html": [
       "<div>\n",
       "<style scoped>\n",
       "    .dataframe tbody tr th:only-of-type {\n",
       "        vertical-align: middle;\n",
       "    }\n",
       "\n",
       "    .dataframe tbody tr th {\n",
       "        vertical-align: top;\n",
       "    }\n",
       "\n",
       "    .dataframe thead th {\n",
       "        text-align: right;\n",
       "    }\n",
       "</style>\n",
       "<table border=\"1\" class=\"dataframe\">\n",
       "  <thead>\n",
       "    <tr style=\"text-align: right;\">\n",
       "      <th></th>\n",
       "      <th>Operator</th>\n",
       "      <th>Condition</th>\n",
       "      <th>SQL Example</th>\n",
       "    </tr>\n",
       "  </thead>\n",
       "  <tbody>\n",
       "    <tr>\n",
       "      <th>0</th>\n",
       "      <td>=</td>\n",
       "      <td>Case sensitive exact string comparison (notice the single equals)</td>\n",
       "      <td>col_name = 'abc'</td>\n",
       "    </tr>\n",
       "    <tr>\n",
       "      <th>1</th>\n",
       "      <td>!= or &lt;&gt;</td>\n",
       "      <td>Case sensitive exact string inequality comparison</td>\n",
       "      <td>col_name != 'abcd'</td>\n",
       "    </tr>\n",
       "    <tr>\n",
       "      <th>2</th>\n",
       "      <td>LIKE</td>\n",
       "      <td>Case insensitive exact string comparison</td>\n",
       "      <td>col_name LIKE 'ABC'</td>\n",
       "    </tr>\n",
       "    <tr>\n",
       "      <th>3</th>\n",
       "      <td>NOT LIKE</td>\n",
       "      <td>Case insensitive exact string inequality comparison</td>\n",
       "      <td>col_name NOT LIKE 'ABCD'</td>\n",
       "    </tr>\n",
       "    <tr>\n",
       "      <th>4</th>\n",
       "      <td>%</td>\n",
       "      <td>Used anywhere in a string to match a sequence of zero or more characters (only with LIKE or NOT LIKE)</td>\n",
       "      <td>col_name LIKE '%AT%' (matches 'AT', 'ATTIC', 'CAT' or even 'BATS')</td>\n",
       "    </tr>\n",
       "    <tr>\n",
       "      <th>5</th>\n",
       "      <td>_</td>\n",
       "      <td>Used anywhere in a string to match a single character (only with LIKE or NOT LIKE)</td>\n",
       "      <td>col_name LIKE 'AN_' (matches 'AND', but not 'AN')</td>\n",
       "    </tr>\n",
       "    <tr>\n",
       "      <th>6</th>\n",
       "      <td>IN (…)</td>\n",
       "      <td>String exists in a list</td>\n",
       "      <td>col_name IN ('A', 'B', 'C')</td>\n",
       "    </tr>\n",
       "    <tr>\n",
       "      <th>7</th>\n",
       "      <td>NOT IN (…)</td>\n",
       "      <td>String does not exist in a list</td>\n",
       "      <td>col_name NOT IN ('D', 'E', 'F')</td>\n",
       "    </tr>\n",
       "  </tbody>\n",
       "</table>\n",
       "</div>"
      ],
      "text/plain": [
       "     Operator  \\\n",
       "0  =            \n",
       "1  != or <>     \n",
       "2  LIKE         \n",
       "3  NOT LIKE     \n",
       "4  %            \n",
       "5  _            \n",
       "6  IN (…)       \n",
       "7  NOT IN (…)   \n",
       "\n",
       "                                                                                               Condition  \\\n",
       "0  Case sensitive exact string comparison (notice the single equals)                                       \n",
       "1  Case sensitive exact string inequality comparison                                                       \n",
       "2  Case insensitive exact string comparison                                                                \n",
       "3  Case insensitive exact string inequality comparison                                                     \n",
       "4  Used anywhere in a string to match a sequence of zero or more characters (only with LIKE or NOT LIKE)   \n",
       "5  Used anywhere in a string to match a single character (only with LIKE or NOT LIKE)                      \n",
       "6  String exists in a list                                                                                 \n",
       "7  String does not exist in a list                                                                         \n",
       "\n",
       "                                                          SQL Example  \n",
       "0  col_name = 'abc'                                                    \n",
       "1  col_name != 'abcd'                                                  \n",
       "2  col_name LIKE 'ABC'                                                 \n",
       "3  col_name NOT LIKE 'ABCD'                                            \n",
       "4  col_name LIKE '%AT%' (matches 'AT', 'ATTIC', 'CAT' or even 'BATS')  \n",
       "5  col_name LIKE 'AN_' (matches 'AND', but not 'AN')                   \n",
       "6  col_name IN ('A', 'B', 'C')                                         \n",
       "7  col_name NOT IN ('D', 'E', 'F')                                     "
      ]
     },
     "execution_count": 3,
     "metadata": {},
     "output_type": "execute_result"
    }
   ],
   "source": [
    "data = [\n",
    "(\"=\",\t\"Case sensitive exact string comparison (notice the single equals)\",\t\"col_name = 'abc'\"),\n",
    "(\"!= or <>\",\t\"Case sensitive exact string inequality comparison\",\t\"col_name != 'abcd'\"),\n",
    "(\"LIKE\",\t\"Case insensitive exact string comparison\",\t\"col_name LIKE 'ABC'\"),\n",
    "(\"NOT LIKE\",\t\"Case insensitive exact string inequality comparison\",\t\"col_name NOT LIKE 'ABCD'\"),\n",
    "(\"%\",\t\"Used anywhere in a string to match a sequence of zero or more characters (only with LIKE or NOT LIKE)\",\t\"col_name LIKE '%AT%' (matches 'AT', 'ATTIC', 'CAT' or even 'BATS')\"),\n",
    "(\"_\",\t\"Used anywhere in a string to match a single character (only with LIKE or NOT LIKE)\",\t\"col_name LIKE 'AN_' (matches 'AND', but not 'AN')\"),\n",
    "(\"IN (…)\",\t\"String exists in a list\",\t\"col_name IN ('A', 'B', 'C')\"),\n",
    "(\"NOT IN (…)\",\t\"String does not exist in a list\",\t\"col_name NOT IN ('D', 'E', 'F')\")\n",
    "]\n",
    "\n",
    "df = pd.DataFrame(data, columns=[\"Operator\", \"Condition\", \"SQL Example\"])\n",
    "\n",
    "df"
   ]
  },
  {
   "cell_type": "markdown",
   "metadata": {},
   "source": [
    "Examples:\n",
    "\n",
    "1. Find only Toy Store movie --> `SELECT * FROM movies WHERE Title = \"Toy Story\";`\n",
    "\n",
    "2. Find all the Toy Story movies --> `SELECT * FROM movies WHERE Title LIKE \"Toy Story%\";`\n",
    "\n",
    "3. Find all the projects by Farees --> `SELECT * FROM projects WHERE Name = \"FAREES\";`"
   ]
  },
  {
   "cell_type": "markdown",
   "metadata": {},
   "source": [
    "* SQL provides a convenient way to discard rows that have a *duplicate* column by using **DISTINCT** keyword.\n",
    "\n",
    "    Select query with unique results:\n",
    "\n",
    "    `SELECT DISTINCT column, another_column, ... FROM mytable WHERE condition(s);`"
   ]
  },
  {
   "cell_type": "markdown",
   "metadata": {},
   "source": [
    "### Ordering Results\n",
    "\n",
    "* SQL provides a way to sort the results of a query by a given column in *ascending* or *descending* order using **ORDER BY** clause.\n",
    "\n",
    "    Select query with ordered results:\n",
    "\n",
    "    `SELECT column, another_column, ... FROM mytable WHERE condition(s) ORDER BY column ASC/DESC;`\n",
    "\n",
    "    When an **ORDER BY** clause is specified, each row is sorted alpha-numerically based on the specified column's value.\n",
    "\n",
    "\n",
    "### Limiting Results to a Subset\n",
    "\n",
    "* **LIMIT** and **OFFSET** clauses are a useful optimization to indicate to the database the subset of the results you care about.\n",
    "\n",
    "    * The **LIMIT** will reduce the number of rows to return\n",
    "\n",
    "    * The optional **OFFSET** will specify where to begin counting the number rows from\n",
    "\n",
    "    Select query with limited rows:\n",
    "\n",
    "    `SELECT column, another_column, ... FROM mytable WHERE condition(s) ORDER BY column ASC/DESC LIMIT num_limit OFFSET num_offset;`"
   ]
  },
  {
   "cell_type": "markdown",
   "metadata": {},
   "source": [
    "Examples: \n",
    "\n",
    "`SELECT DISTINCT Director FROM movies ORDER BY Director;`\n",
    "\n",
    "`SELECT title, year FROM movies ORDER BY year DESC LIMIT 4;`\n",
    "\n",
    "`SELECT Title, Year FROM movies ORDER BY Title ASC LIMIT 5;`\n",
    "\n",
    "`SELECT Title, Year FROM movies ORDER BY title ASC LIMIT 5 OFFSET 5;`"
   ]
  },
  {
   "cell_type": "markdown",
   "metadata": {},
   "source": [
    "### Simple **SELECT** Queries\n",
    "\n",
    "Examples:\n",
    "\n",
    "`SELECT * FROM north_american_cities WHERE country = \"Canada\";`\n",
    "\n",
    "`SELECT * FROM north_american_cities WHERE country = \"United States\" ORDER BY Latitude DESC;`\n",
    "\n",
    "`SELECT city, longitude FROM north_american_cities WHERE longitude < -87.629798 ORDER BY longitude ASC;`\n",
    "\n",
    "`SELECT * FROM north_american_cities WHERE country = \"Mexico\" ORDER BY population DESC LIMIT 2;`\n",
    "\n",
    "`SELECT * FROM north_american_cities WHERE country = \"United States\" ORDER BY population DESC LIMIT 2 OFFSET 2;`"
   ]
  },
  {
   "cell_type": "markdown",
   "metadata": {},
   "source": [
    "### Database Normalization\n",
    "\n",
    "* Minimizes duplicate data in any single table, and allows for data in the database to grow independently of each other.\n",
    "\n",
    "### Multi-table Queries with JOINs\n",
    "\n",
    "* Table that share information about a single entity need to have a *primary key* that identifies that entity *uniquely* accross the database.\n",
    "\n",
    "* One common primary key type is an auto-incrementing integer, but it can also be a string, hashed value, so long as it is unique.\n",
    "\n",
    "* Using the **JOIN** clause in a query, we can combine row data accross two separate tables using this unique key.\n",
    "\n",
    "* Select query with **INNER JOIN** on multiple tables\n",
    "\n",
    "        `SELECT column, another_table_column,...`\n",
    "\n",
    "        `FROM mytable`\n",
    "\n",
    "        `INNER JOIN another_table`\n",
    "\n",
    "                `ON mytable.id = another_table.id`\n",
    "\n",
    "        `WHERE condition(s)`\n",
    "\n",
    "        `ORDER BY column, ... ASC/DESC`\n",
    "\n",
    "        `LIMIT num_limit OFFSET num_offset;`\n",
    "\n",
    "* The **INNER JOIN** is a process that matches rows from the first table and the second table which have the same key (as defined by the **ON** constraint) \n",
    "    \n",
    "    to create a result row with the combined columns from both tables. Other clauses will be applied after the tables are joined."
   ]
  },
  {
   "cell_type": "markdown",
   "metadata": {},
   "source": [
    "Examples:\n",
    "\n",
    "`SELECT id, title, domestic_sales, international_sales FROM movies\n",
    "INNER JOIN boxoffice ON movies.id = boxoffice.movie_id;`\n",
    "\n",
    "`SELECT id, title, domestic_sales, international_sales FROM movies\n",
    "INNER JOIN boxoffice ON movies.id = boxoffice.movie_id\n",
    "WHERE international_sales > domestic_sales;`\n",
    "\n",
    "`SELECT title, rating FROM movies\n",
    "INNER JOIN boxoffice ON movies.id = boxoffice.movie_id\n",
    "WHERE rating ORDER BY rating DESC;`"
   ]
  },
  {
   "cell_type": "markdown",
   "metadata": {},
   "source": [
    "* We would use a **LEFT JOIN, RIGHT JOIN** or **FULL JOIN**, if two tables have asymmetric data:\n",
    "\n",
    "        `SELECT column, another_table_column,...`\n",
    "\n",
    "        `FROM mytable`\n",
    "\n",
    "        `INNER/LEFT/RIGHT/FULL JOIN another_table`\n",
    "\n",
    "                `ON mytable.id = another_table.matching_id`\n",
    "\n",
    "        `WHERE condition(s)`\n",
    "\n",
    "        `ORDER BY column, ... ASC/DESC`\n",
    "\n",
    "        `LIMIT num_limit OFFSET num_offset;`"
   ]
  },
  {
   "cell_type": "markdown",
   "metadata": {},
   "source": [
    "Examples: \n",
    "\n",
    "`SELECT DISTINCT building, building_name FROM employees\n",
    "LEFT JOIN buildings ON employees.building = buildings.building_name;`\n",
    "\n",
    "`SELECT * FROM buildings;`\n",
    "\n",
    "`SELECT DISTINCT building_name, role \n",
    "FROM buildings \n",
    "  LEFT JOIN employees\n",
    "    ON building_name = building;`"
   ]
  },
  {
   "cell_type": "markdown",
   "metadata": {},
   "source": [
    "* You can test a column for **NULL** values in a **WHERE** clause by using either the **IS NULL** or **IS NOT NULL** constraint.\n",
    "\n",
    "    `SELECT column, another_column FROM mytable WHERE column IS/IS NOT NULL AND/OR another_condition AND/OR ...;`\n",
    "\n",
    "    Examples:\n",
    "\n",
    "    `SELECT name, role FROM employees WHERE building IS NULL;`\n",
    "\n",
    "    `SELECT building_name FROM buildings LEFT JOIN employees ON building_name = building WHERE building IS NULL;`\n",
    "\n"
   ]
  },
  {
   "cell_type": "markdown",
   "metadata": {},
   "source": [
    "### Queries with expressions\n",
    "\n",
    "* We can use *expressions* to write more complex logic on column values in a query.\n",
    "\n",
    "* These expressions can use mathematical and string functions along with basic arithmetic to transform values when the query is executed.\n",
    "\n",
    "* Example: `SELECT particle_speed / 2.0 AS half_particle_speed FROM physics_data WHERE ABS(particle_position) * 10.0 > 500;`\n",
    "\n",
    "* When expressions are used in the **SELECT** part of the query, that they are also given a descriptive *alias* using the **AS** keyword.\n",
    "\n",
    "* Example: `SELECT col_expression AS expr_description, ... FROM mytable;`\n",
    "\n",
    "* Regular columns and even tables can also have aliases to make them easier to reference in the output and as a part of simplifying more complex queries:\n",
    "\n",
    "*  `SELECT column AS better_column_name, ... FROM a_long_widgets_table_name AS mywidgets INNER JOIN widget_sales ON mywidgets.id = widget_sales.widget_id;`"
   ]
  },
  {
   "cell_type": "markdown",
   "metadata": {},
   "source": [
    "Examples:\n",
    "\n",
    "* List all movies and their combined sales in **millions** of dollars: `SELECT title, domestic_sales, international_sales, (domestic_sales + international_sales)/1000000 AS combined_sales_in_mil \n",
    "FROM boxoffice INNER JOIN movies ON id = movie_id;`\n",
    "\n",
    "* List all movies and their ratings in **percent**: `SELECT id, title, rating, rating * 10 AS rating_in_percent FROM movies \n",
    "INNER JOIN boxoffice ON id = movie_id ORDER BY rating DESC;`\n",
    "\n",
    "* List all movies that were released on even number years: `SELECT title, year FROM movies WHERE NOT year % 2;`"
   ]
  },
  {
   "cell_type": "markdown",
   "metadata": {},
   "source": [
    "### Queries with aggregates\n",
    "\n",
    "* SQL also supports the use of aggregate expressions (or functions) to summarize information about a group of rows of data\n",
    "\n",
    "* Select query with aggregate functions over all rows:\n",
    "\n",
    "    `SELECT AGG_FUNC(column_or_expression) AS aggregate_description, ... FROM mytable WHERE constraint_expression;`\n",
    "\n",
    "* Each aggregate function is going to run on the whole set of result rows and return a single value\n",
    "\n",
    "* Here are some common aggregate functions:"
   ]
  },
  {
   "cell_type": "code",
   "execution_count": 4,
   "metadata": {},
   "outputs": [
    {
     "data": {
      "text/html": [
       "<div>\n",
       "<style scoped>\n",
       "    .dataframe tbody tr th:only-of-type {\n",
       "        vertical-align: middle;\n",
       "    }\n",
       "\n",
       "    .dataframe tbody tr th {\n",
       "        vertical-align: top;\n",
       "    }\n",
       "\n",
       "    .dataframe thead th {\n",
       "        text-align: right;\n",
       "    }\n",
       "</style>\n",
       "<table border=\"1\" class=\"dataframe\">\n",
       "  <thead>\n",
       "    <tr style=\"text-align: right;\">\n",
       "      <th></th>\n",
       "      <th>Function</th>\n",
       "      <th>Description</th>\n",
       "    </tr>\n",
       "  </thead>\n",
       "  <tbody>\n",
       "    <tr>\n",
       "      <th>0</th>\n",
       "      <td>COUNT(*), COUNT(column)</td>\n",
       "      <td>A common function used to counts the number of rows in the group if no column name is specified. Otherwise, count the number of rows in the group with non-NULL values in the specified column.</td>\n",
       "    </tr>\n",
       "    <tr>\n",
       "      <th>1</th>\n",
       "      <td>MIN(column)</td>\n",
       "      <td>Finds the smallest numerical value in the specified column for all rows in the group.</td>\n",
       "    </tr>\n",
       "    <tr>\n",
       "      <th>2</th>\n",
       "      <td>MAX(column)</td>\n",
       "      <td>Finds the largest numerical value in the specified column for all rows in the group.</td>\n",
       "    </tr>\n",
       "    <tr>\n",
       "      <th>3</th>\n",
       "      <td>AVG(column)</td>\n",
       "      <td>Finds the average numerical value in the specified column for all rows in the group.</td>\n",
       "    </tr>\n",
       "    <tr>\n",
       "      <th>4</th>\n",
       "      <td>SUM(column)</td>\n",
       "      <td>Finds the sum of all numerical values in the specified column for the rows in the group.</td>\n",
       "    </tr>\n",
       "  </tbody>\n",
       "</table>\n",
       "</div>"
      ],
      "text/plain": [
       "                  Function  \\\n",
       "0  COUNT(*), COUNT(column)   \n",
       "1  MIN(column)               \n",
       "2  MAX(column)               \n",
       "3  AVG(column)               \n",
       "4  SUM(column)               \n",
       "\n",
       "                                                                                                                                                                                       Description  \n",
       "0  A common function used to counts the number of rows in the group if no column name is specified. Otherwise, count the number of rows in the group with non-NULL values in the specified column.  \n",
       "1  Finds the smallest numerical value in the specified column for all rows in the group.                                                                                                            \n",
       "2  Finds the largest numerical value in the specified column for all rows in the group.                                                                                                             \n",
       "3  Finds the average numerical value in the specified column for all rows in the group.                                                                                                             \n",
       "4  Finds the sum of all numerical values in the specified column for the rows in the group.                                                                                                         "
      ]
     },
     "execution_count": 4,
     "metadata": {},
     "output_type": "execute_result"
    }
   ],
   "source": [
    "data = [\n",
    "    (\"COUNT(*), COUNT(column)\", \"A common function used to counts the number of rows in the group if no column name is specified. Otherwise, count the number of rows in the group with non-NULL values in the specified column.\"),\n",
    "    (\"MIN(column)\", \"Finds the smallest numerical value in the specified column for all rows in the group.\"),\n",
    "    (\"MAX(column)\", \"Finds the largest numerical value in the specified column for all rows in the group.\"),\n",
    "    (\"AVG(column)\", \"Finds the average numerical value in the specified column for all rows in the group.\"),\n",
    "    (\"SUM(column)\", \"Finds the sum of all numerical values in the specified column for the rows in the group.\")\n",
    "]\n",
    "\n",
    "df = pd.DataFrame(data, columns=[\"Function\", \"Description\"])\n",
    "\n",
    "df"
   ]
  },
  {
   "cell_type": "markdown",
   "metadata": {},
   "source": [
    "* You can apply the aggregate functions to individual groups of data within that group. \n",
    "\n",
    "* This would then create as many results as there are unique groups defined by the **GROUP BY** clause.\n",
    "\n",
    "    `SELECT AGG_FUNC(column_or_expression) AS aggregate_description, ... FROM mytable WHERE constraint_expression GROUP BY column;`\n",
    "\n",
    "* The **GROUP BY** clause works by grouping rows that have the same value in the column specified\n",
    "\n",
    "* Examples:\n",
    "\n",
    "    * Find the longest time that an employee has been working: `SELECT MAX(years_employed) AS longest_employee FROM employees;`\n",
    "\n",
    "    * For each role, find the average number of years employed by employees in that role: `SELECT role, AVG(years_employed) FROM employees WHERE years_employed GROUP BY role;`\n",
    "\n",
    "    * Find the total number of employee years working in each building: `SELECT building, SUM(years_employed) FROM employees WHERE years_employed GROUP BY building;`"
   ]
  },
  {
   "cell_type": "markdown",
   "metadata": {},
   "source": [
    "* By adding an additional **HAVING** clause which is used specifically with the **GROUP BY** clause to allow us to filter grouped rows from the result set\n",
    "\n",
    "    `SELECT group_by_column, AGG_FUNC(column_expression) AS aggregate_result_alias, ...` \n",
    "    \n",
    "    `FROM mytable` \n",
    "    \n",
    "    `WHERE condition`\n",
    "\n",
    "    `GROUP BY column`\n",
    "\n",
    "    `HAVING group_condition;`\n",
    "\n",
    "* Examples:\n",
    "\n",
    "    * Find the number of Artists in the studio (without a **HAVING** clause): `SELECT SUM(role = \"Artist\") FROM employees;`\n",
    "\n",
    "    * Find the number of Employees of each role in the studio: `SELECT role, COUNT(*) FROM employees GROUP BY role;`\n",
    "\n",
    "    * Find the total number of years employed by all Engineers: `SELECT role, SUM(years_employed) FROM employees WHERE role = \"Engineer\";` **OR** `SELECT role, SUM(years_employed) FROM employees GROUP BY role HAVING role = \"Engineer\";`"
   ]
  },
  {
   "cell_type": "markdown",
   "metadata": {},
   "source": [
    "## Example in Python"
   ]
  },
  {
   "cell_type": "code",
   "execution_count": 5,
   "metadata": {},
   "outputs": [],
   "source": [
    "# # Example 1 : Create an SQLite database to store our book data\n",
    "# import sqlite3\n",
    "\n",
    "# # create a SQLite database called \"books-collection\"\n",
    "# db = sqlite3.connect(\"books-collection.db\")\n",
    "\n",
    "# # create a \"cursor\" to control our database. The cursor will be used to modify our SQLite database.\n",
    "# cursor = db.cursor()\n",
    "\n",
    "# # create a table called \"books\"\n",
    "# # cursor.execute(\"CREATE TABLE books (id INTEGER PRIMARY KEY, title varchar(250) NOT NULL UNIQUE, author varchar(250) NOT NULL, rating FLOAT NOT NULL)\")\n",
    "\n",
    "# # insert data into the table \n",
    "# # NOTE: the create a table code above must be commented out before we insert data into the table\n",
    "# cursor.execute(\"INSERT INTO books VALUES(2, 'Elon Musk', 'Ashlee Vance', '9.5')\")\n",
    "# db.commit()"
   ]
  },
  {
   "cell_type": "code",
   "execution_count": null,
   "metadata": {},
   "outputs": [],
   "source": []
  }
 ],
 "metadata": {
  "kernelspec": {
   "display_name": "base",
   "language": "python",
   "name": "python3"
  },
  "language_info": {
   "codemirror_mode": {
    "name": "ipython",
    "version": 3
   },
   "file_extension": ".py",
   "mimetype": "text/x-python",
   "name": "python",
   "nbconvert_exporter": "python",
   "pygments_lexer": "ipython3",
   "version": "3.11.7"
  }
 },
 "nbformat": 4,
 "nbformat_minor": 2
}
