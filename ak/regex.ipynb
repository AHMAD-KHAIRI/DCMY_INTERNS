{
 "cells": [
  {
   "cell_type": "markdown",
   "metadata": {},
   "source": [
    "# Regular Expressions (Regexone.com)"
   ]
  },
  {
   "cell_type": "markdown",
   "metadata": {},
   "source": [
    "1. Matching characters\n",
    "\n",
    "* Recognize that when using regular expressions, everything is essentially a character (string)\n",
    "\n",
    "* Example: Use expression `abc`"
   ]
  },
  {
   "cell_type": "markdown",
   "metadata": {},
   "source": [
    "2. Matching digits\n",
    "\n",
    "* The character `\\d` can be used in place of any digit from 0 - 9\n",
    "\n",
    "* The character `\\D` can be used for any non-digit character\n",
    "\n",
    "* Example: Use the expression `123` or `\\d`"
   ]
  },
  {
   "cell_type": "markdown",
   "metadata": {},
   "source": [
    "3. Matching with Wildcards\n",
    "\n",
    "* The concept of `wildcard` which is represented by the `.(dot)` metacharacter can match any single character (letter, digit, whitespace, everything)\n",
    "\n",
    "* To specifically match a period, escape the dot by using a slash `\\.` accordingly\n",
    "\n",
    "* Example: Use the expression `...\\.` to match the first three wildcard characters, and escape the final wildcard meta-character to match the period"
   ]
  },
  {
   "cell_type": "markdown",
   "metadata": {},
   "source": [
    "4. Matching characters\n",
    "\n",
    "* By defining characters inside `[] square brackets`, we could use the method for matching specific characters using regular expressions\n",
    "\n",
    "* Example: `[abc]` will only match a, b, or c letter and nothing else\n",
    "\n",
    "* Example: Use the expression `[cmf]an` to match the first three strings but not the last three strings"
   ]
  },
  {
   "cell_type": "markdown",
   "metadata": {},
   "source": [
    "5. Excluding characters\n",
    "\n",
    "* By using `[] square brackets` and the `^ (hat)`, we could use the method to exclude specific characters\n",
    "\n",
    "* Example: `[^abc]` will match any single character except for the letters a, b, or c\n",
    "\n",
    "* Use case: We only want to match phone numbers that are not from the area code 60\n",
    "\n",
    "* Example: Use the expression `[^b]og` to match the first two animals but not the last animal"
   ]
  },
  {
   "cell_type": "markdown",
   "metadata": {},
   "source": [
    "6. Matching character ranges\n",
    "\n",
    "* When using the square bracket notation, there is a shorthand for matching a character in list of sequential characters by using the `- (dash)` to indicate a character range\n",
    "\n",
    "* Example: The pattern `[0-6]` will only match any single digit character from zero to six, and nothing else.\n",
    "\n",
    "* Example: The pattern `[^n-p]` will only match any single character except for letters n to p\n",
    "\n",
    "* The alphanumeric `\\w ` metacharacter is equivalent to the character range `[A-Za-z0-9_]`\n",
    "\n",
    "* The alphanumeric `\\W` metacharacter is equivalent to the character range `[^A-Za-z0-9_]`\n",
    "\n",
    "* Use case: We want to match a character that can be in a sequential range characters but we don't want to list them all out\n",
    "\n",
    "* ! Patterns are case sensitive (lower vs upper case)\n",
    "\n",
    "* Example: Use the expression `[A-C][n-p][a-c]` to match the first three character ranges but not the last three"
   ]
  },
  {
   "cell_type": "markdown",
   "metadata": {},
   "source": [
    "7. Matching repeated characters\n",
    "\n",
    "* When using `{} curly braces` notation, we can specify how many repetitions of each character we want\n",
    "\n",
    "* Example: `a{3}` will match the `a` character exactly three times\n",
    "\n",
    "* Example: `a{1, 3}` will match the `a` character no more than 3 times, but no less than once\n",
    "\n",
    "* Example: `[wxy]{5}` will match each character w, x, or y exactly five times\n",
    "\n",
    "* Example: `.{2, 6}` will match any wildcard character between 2 to 6 times\n",
    "\n",
    "* Example: Use the expression `waz{3,5}up` to match the patterns `wazzzzzup` and `wazzzup`, but not `wazup`"
   ]
  },
  {
   "cell_type": "markdown",
   "metadata": {},
   "source": [
    "8. Matching repeated characters\n",
    "\n",
    "* When a form that has a field that takes a numerical value (example in $ dollars), we can express such a pattern with what is known as Kleene Star and the Kleene Plus, which essentially represents either 0 or more or 1 or more of the character it follows\n",
    "\n",
    "* Example: We can use the pattern `\\d*` to match any number of digits (zero or more)\n",
    "\n",
    "* Example: We can use the pattern `\\d+` to ensure that the input string has at least one digit (1 or more)\n",
    "\n",
    "* Example: `a+` to match one or more a's\n",
    "\n",
    "* Example: `[abc]+` to match one or more of any a,b, or c character\n",
    "\n",
    "* Example: `.*` to match zero or more of any (wildcard) character \n",
    "\n",
    "* Example: Use the expression `a{2,4}b*c+` or `aa+b*c+` or `a{2,4}b{0,4}c{1,2}` to match the patterns `aaaabcc, aabbbbc and aacc` but not `a`"
   ]
  },
  {
   "cell_type": "markdown",
   "metadata": {},
   "source": [
    "9. Matching optional characters\n",
    "\n",
    "* The `? (question mark)` metacharacter denotes optionality and it allows us to match either zero or one of the preceding character or group\n",
    "\n",
    "* Example: `ab?c` will match either the strings `abc` or `ac` because the `b` is considered optional\n",
    "\n",
    "* To specifically match a plain question mark character in a string, escape it using a slash `\\?`\n",
    "\n",
    "* Example: Use the expression `\\d+ files? found\\?` to match the patterns `1 file found?, 2 files found? and 24 files found?` but not `No files found`"
   ]
  },
  {
   "cell_type": "markdown",
   "metadata": {},
   "source": [
    "10. Matching whitespaces\n",
    "\n",
    "* The `space ( )`, the `tab (\\t)`, the`new line (\\n)` and the `carriage return (\\r)` we could use it to match whitespace\n",
    "\n",
    "* The `\\s` will match any of the specific whitespaces above and is extremely useful when dealing with raw input text\n",
    "\n",
    "* The `\\S` will match any non-whitespace character\n",
    "\n",
    "* Use case: We use the above when dealing with real-world input, such as log files and even user input. We use it to format pieces of information to make it easier to read and scan visually\n",
    "\n",
    "* Example : Use the expression `\\d\\.\\s+abc` to match only the patterns that have a space between the list number and `abc`"
   ]
  },
  {
   "cell_type": "markdown",
   "metadata": {},
   "source": [
    "11. Matching lines\n",
    "\n",
    "* When it isn't desirable to partially match pieces of strings accross all the text, it is often <b>best practice to write as specific regular expressions as possible</b> to ensure that we don't get false positives when matching against real world text\n",
    "\n",
    "* Using the special `^ (hat)` and `$ (dollar sign)` metacharacters, is one way to define a pattern that describes both the start and the end of the line\n",
    "\n",
    "* Example: `^success?` matches the pattern completely at the beginning and end\n",
    "\n",
    "* Note: This is different than `[^...]` which is used for excluding characters\n",
    "\n",
    "* Example: Use the expression `^Mission?: successful$` to match only the pattern `Mission: successful`, but not `Last Mission: unsuccessful` and `Next Mission: successful upon capture of target`"
   ]
  },
  {
   "cell_type": "markdown",
   "metadata": {},
   "source": [
    "12. Matching groups\n",
    "\n",
    "* By defining group of characters and capturing them using the special `parentheses ( and )` metacharacters, any subpattern inside the parentheses will be captured as a group. This allows us to not just match text but also to extract information for further processing\n",
    "\n",
    "* Use case: This can be used to extract information like phone numbers or emails from all sorts of data\n",
    "\n",
    "* Example: A command line tool is used to list all the image files in the cloud and the expression `^(IMG\\d+\\.png)$` is used to capture and extract the full filename but if we only want the filename without the extension, we use the expression `^(IMG\\d+)\\.png$` which only captures the part before the period (dot)\n",
    "\n",
    "* Example: Use the expression `^(.+)\\.pdf$` to capture one or more pattern inside the parentheses and have the file extension `.pdf` or `^(file.+)\\.pdf$` to only capture the pattern inside the parentheses that starts with `file` and have the file extension `.pdf`"
   ]
  },
  {
   "cell_type": "markdown",
   "metadata": {},
   "source": [
    "13. Matching nested groups\n",
    "\n",
    "* When working with complex data, we have to extract multiple layers of information, which can result in nested groups. Generally, the results of the captured groups are in the order in which they are defined (in order by open parentheses)\n",
    "\n",
    "* Example: `^(IMG(\\d+))\\.png$` is used to capture the filenames of all the image files and the picture number in the filename. The nested parentheses is used to capture the digits\n",
    "\n",
    "* The nested groups are read from left to right in the pattern\n",
    "\n",
    "* Example: Use the expression `(.+\\s(\\d+))` or `(\\w+\\s(\\d+))` to match and capture both the full date and the year of the date for the patterns `Jan 1987`, `May 1969`, and `Aug 2011`. Alternative to `\\s`, we can also use `space ( )` to catch a single whitespace between the month and year. We can use `\\s+` if there are 1 or more whitespace in between"
   ]
  },
  {
   "cell_type": "markdown",
   "metadata": {},
   "source": [
    "14. Matching nested groups\n",
    "\n",
    "* All the quantifiers including the `* (start)`, `+ (plus)`, `{m, n} (repetition)` and the `? (question mark)` can all be used within the capture group patterns. This is the only way to apply quantifiers on sequences of characters instead of the individual character themselves\n",
    "\n",
    "* Example: `(\\d{3})?` is used to test for the existence of the whole group of digits and not the individual character themselves such as a phone number may or may not contain an area code\n",
    "\n",
    "* Example: The expression `(\\d+)x(\\d+)` is used to capture the two groups of digits for width and height of each display `1280x720`, `1920x1600`, or `1024x768`"
   ]
  },
  {
   "cell_type": "markdown",
   "metadata": {},
   "source": [
    "15. Matching conditional text\n",
    "\n",
    "* We use the `| (logical OR, aka the pipe)` to denote different possible sets of characters, specifically when using groups\n",
    "\n",
    "* Example: `Buy more (milk|bread|juice)` to match only the strings `Buy more milk`, `Buy more bread`, or `Buy more juice`\n",
    "\n",
    "* Example: `([cb]ats*|[dh]ogs?)` would match either cats or bats, or, dogs or hogs\n",
    "\n",
    "* Note: Make separate patterns when writing patterns with many conditions if they get too complex\n",
    "\n",
    "* Example: Use the expression `I love (cats|dogs)` to match the pattern I love cats or I love dogs, but not I love logs or I love cogs"
   ]
  },
  {
   "cell_type": "markdown",
   "metadata": {},
   "source": [
    "16. Matching other special characters\n",
    "\n",
    "* Recap: \n",
    "\n",
    "  * \\d is used to capture digits while \\D to capture non-digits \n",
    "  * \\s is used to capture whitespace while \\S to capture non-whitespace\n",
    "  * \\w is used to capture alphanumeric letters and digits, while \\W to capture non-alphanumeric character such as punctuation\n",
    "\n",
    "* Additionally, the special metacharacter `\\b` is used to match between a word and a non-word character and most useful in capturing entire words for example by using `\\w+\\b`\n",
    "\n",
    "* To reference the captured groups, we could use for example `\\0` for full match text, `\\1` for group 1, `\\2` for group 2, etc\n",
    "\n",
    "* Example:  When we are doing a search and replace in a text editor using regular expressions to swap two numbers, we can search with `(\\d+)-(\\d+)` and replace it with `\\2-\\1` to put the second captured number first, and the first captured number second\n",
    "\n",
    "* Example: Use the simple expression `.*` to match the patterns `The quick brown fox jumps over the lazy dog.`, `There were 614 instances of students getting 90.0% or above.`, or `\tThe FCC had to censor the network for saying &$#*@!.`\n",
    "\n"
   ]
  },
  {
   "cell_type": "markdown",
   "metadata": {},
   "source": []
  }
 ],
 "metadata": {
  "language_info": {
   "name": "python"
  }
 },
 "nbformat": 4,
 "nbformat_minor": 2
}
