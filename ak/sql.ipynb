{
 "cells": [
  {
   "cell_type": "markdown",
   "metadata": {},
   "source": [
    "# Structured Query Language (SQL)"
   ]
  },
  {
   "cell_type": "markdown",
   "metadata": {
    "vscode": {
     "languageId": "plaintext"
    }
   },
   "source": [
    "## Where To Learn SQL"
   ]
  },
  {
   "cell_type": "markdown",
   "metadata": {},
   "source": [
    "**1. SQLZoo: The Wikipedia of SQL Learning** https://sqlzoo.net/wiki/SQL_Tutorial"
   ]
  },
  {
   "cell_type": "markdown",
   "metadata": {
    "vscode": {
     "languageId": "plaintext"
    }
   },
   "source": [
    "**2. SQLBolt**\n",
    "https://sqlbolt.com/"
   ]
  },
  {
   "cell_type": "markdown",
   "metadata": {},
   "source": [
    "## Database Management Systems (DBMS)\n",
    "\n",
    "[Comparing MySQL, PostgreSQL, and MongoDB](https://vercel.com/guides/mysql-vs-postgresql-vs-mongodb)"
   ]
  },
  {
   "cell_type": "markdown",
   "metadata": {},
   "source": [
    "**1. MySQL**"
   ]
  },
  {
   "cell_type": "markdown",
   "metadata": {},
   "source": [
    "**2. PostgreSQL**"
   ]
  },
  {
   "cell_type": "markdown",
   "metadata": {},
   "source": [
    "**3. InfluxDB**"
   ]
  },
  {
   "cell_type": "markdown",
   "metadata": {},
   "source": [
    "**4. MongoDB**"
   ]
  },
  {
   "cell_type": "markdown",
   "metadata": {
    "vscode": {
     "languageId": "plaintext"
    }
   },
   "source": [
    "## Process for planning and designing a database before you create the SQL Database and Tables"
   ]
  },
  {
   "cell_type": "markdown",
   "metadata": {},
   "source": [
    "**1. Identify and understand the main objects in your project**\n",
    "\n",
    "Define the columns, table names, data types, relationship between tables, \n",
    "\n",
    "Example:\n",
    "* Machine name: Pump Test Bench\n",
    "* Oil Temperature: °C\n",
    "* Hydraulic System Pressure: bar\n",
    "* Hydraulic System Flow Rate: l/min\n",
    "* Electric Motor Speed: RPM\n",
    "* Ambient Temperature: °C\n",
    "* Humidity: rH\n",
    "* Ambient Noise: \n",
    "* Vibration: "
   ]
  },
  {
   "cell_type": "markdown",
   "metadata": {},
   "source": [
    "**2. Ask questions**\n",
    "\n",
    "Example:\n",
    "* What is the relationship between A and B?\n",
    "* If A changes, does B stays the same or not?\n",
    "* What is the impact?"
   ]
  },
  {
   "cell_type": "markdown",
   "metadata": {},
   "source": [
    "**2. Sketch the tables**\n",
    "\n",
    "Example:\n",
    "* Lucid: https://www.lucidchart.com/pages/database-diagram/database-design\n",
    "* Sqldbm: https://sqldbm.com/"
   ]
  },
  {
   "cell_type": "markdown",
   "metadata": {},
   "source": [
    "**3. Draft the SQL statements that will create your database**\n",
    "\n",
    "`CREATE TABLE, DROP TABLE, INSERT INTO, SELECT, JOIN, WHERE, `\n"
   ]
  },
  {
   "cell_type": "markdown",
   "metadata": {},
   "source": [
    "To retrieve data from a SQL database, we need to write `SELECT` statements (referred to as *queries*).\n",
    "\n",
    "Given a table of data, we can query for a specific columns:\n",
    "\n",
    "`SELECT column, another_column, ... FROM mytable`\n",
    "\n",
    "We can query all columns of data from a table:\n",
    "\n",
    "`SELECT * FROM mytable`"
   ]
  },
  {
   "cell_type": "markdown",
   "metadata": {},
   "source": [
    "To filter certain results from being returned, we need to use `WHERE` clause in the query.\n",
    "\n",
    "`SELECT column, another_column, ... FROM mytable WHERE condition AND/OR another_condition AND/OR ...;`\n",
    "\n",
    "Below are some useful operators to use for numerical data (integer or floating point)"
   ]
  },
  {
   "cell_type": "code",
   "execution_count": 12,
   "metadata": {},
   "outputs": [
    {
     "data": {
      "text/html": [
       "<div>\n",
       "<style scoped>\n",
       "    .dataframe tbody tr th:only-of-type {\n",
       "        vertical-align: middle;\n",
       "    }\n",
       "\n",
       "    .dataframe tbody tr th {\n",
       "        vertical-align: top;\n",
       "    }\n",
       "\n",
       "    .dataframe thead th {\n",
       "        text-align: right;\n",
       "    }\n",
       "</style>\n",
       "<table border=\"1\" class=\"dataframe\">\n",
       "  <thead>\n",
       "    <tr style=\"text-align: right;\">\n",
       "      <th></th>\n",
       "      <th>Operator</th>\n",
       "      <th>Condition</th>\n",
       "      <th>SQL Example</th>\n",
       "    </tr>\n",
       "  </thead>\n",
       "  <tbody>\n",
       "    <tr>\n",
       "      <th>0</th>\n",
       "      <td>=, !=, &lt;, &lt;=, &gt;, &gt;=</td>\n",
       "      <td>Standard numerical operators</td>\n",
       "      <td>col_name != 4</td>\n",
       "    </tr>\n",
       "    <tr>\n",
       "      <th>1</th>\n",
       "      <td>BETWEEN … AND …</td>\n",
       "      <td>Number is within range of two values (inclusive)</td>\n",
       "      <td>col_name BETWEEN 1.5 AND 10.5</td>\n",
       "    </tr>\n",
       "    <tr>\n",
       "      <th>2</th>\n",
       "      <td>NOT BETWEEN … AND …</td>\n",
       "      <td>Number is not within range of two values (inclusive)</td>\n",
       "      <td>col_name NOT BETWEEN 1 AND 10</td>\n",
       "    </tr>\n",
       "    <tr>\n",
       "      <th>3</th>\n",
       "      <td>IN (…)</td>\n",
       "      <td>Number exists in a list</td>\n",
       "      <td>col_name IN (2, 4, 6)</td>\n",
       "    </tr>\n",
       "    <tr>\n",
       "      <th>4</th>\n",
       "      <td>NOT IN (…)</td>\n",
       "      <td>Number does not exist in a list</td>\n",
       "      <td>col_name NOT IN (1, 3, 5)</td>\n",
       "    </tr>\n",
       "  </tbody>\n",
       "</table>\n",
       "</div>"
      ],
      "text/plain": [
       "              Operator                                             Condition  \\\n",
       "0  =, !=, <, <=, >, >=  Standard numerical operators                           \n",
       "1  BETWEEN … AND …      Number is within range of two values (inclusive)       \n",
       "2  NOT BETWEEN … AND …  Number is not within range of two values (inclusive)   \n",
       "3  IN (…)               Number exists in a list                                \n",
       "4  NOT IN (…)           Number does not exist in a list                        \n",
       "\n",
       "                     SQL Example  \n",
       "0  col_name != 4                  \n",
       "1  col_name BETWEEN 1.5 AND 10.5  \n",
       "2  col_name NOT BETWEEN 1 AND 10  \n",
       "3  col_name IN (2, 4, 6)          \n",
       "4  col_name NOT IN (1, 3, 5)      "
      ]
     },
     "execution_count": 12,
     "metadata": {},
     "output_type": "execute_result"
    }
   ],
   "source": [
    "import pandas as pd\n",
    "\n",
    "pd.set_option(\"display.max_colwidth\", 1)\n",
    "\n",
    "data = [\n",
    "(\"=, !=, <, <=, >, >=\",\t\"Standard numerical operators\",\t\"col_name != 4\"),\n",
    "(\"BETWEEN … AND …\",\t\"Number is within range of two values (inclusive)\",\t\"col_name BETWEEN 1.5 AND 10.5\"),\n",
    "(\"NOT BETWEEN … AND …\",\t\"Number is not within range of two values (inclusive)\",\t\"col_name NOT BETWEEN 1 AND 10\"),\n",
    "(\"IN (…)\",\t\"Number exists in a list\",\t\"col_name IN (2, 4, 6)\"),\n",
    "(\"NOT IN (…)\",\t\"Number does not exist in a list\", \"col_name NOT IN (1, 3, 5)\")\n",
    "]\n",
    "\n",
    "df = pd.DataFrame(data, columns=[\"Operator\", \"Condition\", \"SQL Example\"])\n",
    "\n",
    "df"
   ]
  },
  {
   "cell_type": "markdown",
   "metadata": {},
   "source": [
    "Examples:\n",
    "\n",
    "1. Find the temperature with a row **Id** of 6 --> `SELECT * FROM temp_table WHERE Id = 6;`\n",
    "\n",
    "2. Find the price in the **year**s between 2000 and 2010 --> `SELECT * FROM sale_table WHERE year BETWEEN 2000 AND 2010;`\n",
    "\n",
    "3. Find the price not in the **year**s between 2000 and 2010 --> `SELECT * FROM sale_table WHERE year NOT BETWEEN 2000 AND 2010;`\n",
    "\n",
    "4. Find the first 5 hydraulic oil pressure and their timestamp --> `SELECT * FROM pressure_table WHERE Id BETWEEN 1 AND 5;`"
   ]
  },
  {
   "cell_type": "markdown",
   "metadata": {},
   "source": [
    "When writing **WHERE** clauses with columns containing text data, SQL supports operators to do things like case-sensitive string comparison and wildcard pattern matching.\n",
    "\n",
    "A few common text-data specific operators:"
   ]
  },
  {
   "cell_type": "code",
   "execution_count": 13,
   "metadata": {},
   "outputs": [
    {
     "data": {
      "text/html": [
       "<div>\n",
       "<style scoped>\n",
       "    .dataframe tbody tr th:only-of-type {\n",
       "        vertical-align: middle;\n",
       "    }\n",
       "\n",
       "    .dataframe tbody tr th {\n",
       "        vertical-align: top;\n",
       "    }\n",
       "\n",
       "    .dataframe thead th {\n",
       "        text-align: right;\n",
       "    }\n",
       "</style>\n",
       "<table border=\"1\" class=\"dataframe\">\n",
       "  <thead>\n",
       "    <tr style=\"text-align: right;\">\n",
       "      <th></th>\n",
       "      <th>Operator</th>\n",
       "      <th>Condition</th>\n",
       "      <th>SQL Example</th>\n",
       "    </tr>\n",
       "  </thead>\n",
       "  <tbody>\n",
       "    <tr>\n",
       "      <th>0</th>\n",
       "      <td>=</td>\n",
       "      <td>Case sensitive exact string comparison (notice the single equals)</td>\n",
       "      <td>col_name = 'abc'</td>\n",
       "    </tr>\n",
       "    <tr>\n",
       "      <th>1</th>\n",
       "      <td>!= or &lt;&gt;</td>\n",
       "      <td>Case sensitive exact string inequality comparison</td>\n",
       "      <td>col_name != 'abcd'</td>\n",
       "    </tr>\n",
       "    <tr>\n",
       "      <th>2</th>\n",
       "      <td>LIKE</td>\n",
       "      <td>Case insensitive exact string comparison</td>\n",
       "      <td>col_name LIKE 'ABC'</td>\n",
       "    </tr>\n",
       "    <tr>\n",
       "      <th>3</th>\n",
       "      <td>NOT LIKE</td>\n",
       "      <td>Case insensitive exact string inequality comparison</td>\n",
       "      <td>col_name NOT LIKE 'ABCD'</td>\n",
       "    </tr>\n",
       "    <tr>\n",
       "      <th>4</th>\n",
       "      <td>%</td>\n",
       "      <td>Used anywhere in a string to match a sequence of zero or more characters (only with LIKE or NOT LIKE)</td>\n",
       "      <td>col_name LIKE '%AT%' (matches 'AT', 'ATTIC', 'CAT' or even 'BATS')</td>\n",
       "    </tr>\n",
       "    <tr>\n",
       "      <th>5</th>\n",
       "      <td>_</td>\n",
       "      <td>Used anywhere in a string to match a single character (only with LIKE or NOT LIKE)</td>\n",
       "      <td>col_name LIKE 'AN_' (matches 'AND', but not 'AN')</td>\n",
       "    </tr>\n",
       "    <tr>\n",
       "      <th>6</th>\n",
       "      <td>IN (…)</td>\n",
       "      <td>String exists in a list</td>\n",
       "      <td>col_name IN ('A', 'B', 'C')</td>\n",
       "    </tr>\n",
       "    <tr>\n",
       "      <th>7</th>\n",
       "      <td>NOT IN (…)</td>\n",
       "      <td>String does not exist in a list</td>\n",
       "      <td>col_name NOT IN ('D', 'E', 'F')</td>\n",
       "    </tr>\n",
       "  </tbody>\n",
       "</table>\n",
       "</div>"
      ],
      "text/plain": [
       "     Operator  \\\n",
       "0  =            \n",
       "1  != or <>     \n",
       "2  LIKE         \n",
       "3  NOT LIKE     \n",
       "4  %            \n",
       "5  _            \n",
       "6  IN (…)       \n",
       "7  NOT IN (…)   \n",
       "\n",
       "                                                                                               Condition  \\\n",
       "0  Case sensitive exact string comparison (notice the single equals)                                       \n",
       "1  Case sensitive exact string inequality comparison                                                       \n",
       "2  Case insensitive exact string comparison                                                                \n",
       "3  Case insensitive exact string inequality comparison                                                     \n",
       "4  Used anywhere in a string to match a sequence of zero or more characters (only with LIKE or NOT LIKE)   \n",
       "5  Used anywhere in a string to match a single character (only with LIKE or NOT LIKE)                      \n",
       "6  String exists in a list                                                                                 \n",
       "7  String does not exist in a list                                                                         \n",
       "\n",
       "                                                          SQL Example  \n",
       "0  col_name = 'abc'                                                    \n",
       "1  col_name != 'abcd'                                                  \n",
       "2  col_name LIKE 'ABC'                                                 \n",
       "3  col_name NOT LIKE 'ABCD'                                            \n",
       "4  col_name LIKE '%AT%' (matches 'AT', 'ATTIC', 'CAT' or even 'BATS')  \n",
       "5  col_name LIKE 'AN_' (matches 'AND', but not 'AN')                   \n",
       "6  col_name IN ('A', 'B', 'C')                                         \n",
       "7  col_name NOT IN ('D', 'E', 'F')                                     "
      ]
     },
     "execution_count": 13,
     "metadata": {},
     "output_type": "execute_result"
    }
   ],
   "source": [
    "data = [\n",
    "(\"=\",\t\"Case sensitive exact string comparison (notice the single equals)\",\t\"col_name = 'abc'\"),\n",
    "(\"!= or <>\",\t\"Case sensitive exact string inequality comparison\",\t\"col_name != 'abcd'\"),\n",
    "(\"LIKE\",\t\"Case insensitive exact string comparison\",\t\"col_name LIKE 'ABC'\"),\n",
    "(\"NOT LIKE\",\t\"Case insensitive exact string inequality comparison\",\t\"col_name NOT LIKE 'ABCD'\"),\n",
    "(\"%\",\t\"Used anywhere in a string to match a sequence of zero or more characters (only with LIKE or NOT LIKE)\",\t\"col_name LIKE '%AT%' (matches 'AT', 'ATTIC', 'CAT' or even 'BATS')\"),\n",
    "(\"_\",\t\"Used anywhere in a string to match a single character (only with LIKE or NOT LIKE)\",\t\"col_name LIKE 'AN_' (matches 'AND', but not 'AN')\"),\n",
    "(\"IN (…)\",\t\"String exists in a list\",\t\"col_name IN ('A', 'B', 'C')\"),\n",
    "(\"NOT IN (…)\",\t\"String does not exist in a list\",\t\"col_name NOT IN ('D', 'E', 'F')\")\n",
    "]\n",
    "\n",
    "df = pd.DataFrame(data, columns=[\"Operator\", \"Condition\", \"SQL Example\"])\n",
    "\n",
    "df"
   ]
  },
  {
   "cell_type": "markdown",
   "metadata": {},
   "source": [
    "Examples:\n",
    "\n",
    "1. Find only Toy Store movie --> `SELECT * FROM movies WHERE Title = \"Toy Story\";`\n",
    "\n",
    "2. Find all the Toy Story movies --> `SELECT * FROM movies WHERE Title LIKE \"Toy Story%\";`\n",
    "\n",
    "3. Find all the projects by Farees --> `SELECT * FROM projects WHERE Name = \"FAREES\";`"
   ]
  },
  {
   "cell_type": "markdown",
   "metadata": {},
   "source": [
    "## Example in Python"
   ]
  },
  {
   "cell_type": "code",
   "execution_count": 2,
   "metadata": {},
   "outputs": [],
   "source": [
    "# # Example 1 : Create an SQLite database to store our book data\n",
    "# import sqlite3\n",
    "\n",
    "# # create a SQLite database called \"books-collection\"\n",
    "# db = sqlite3.connect(\"books-collection.db\")\n",
    "\n",
    "# # create a \"cursor\" to control our database. The cursor will be used to modify our SQLite database.\n",
    "# cursor = db.cursor()\n",
    "\n",
    "# # create a table called \"books\"\n",
    "# # cursor.execute(\"CREATE TABLE books (id INTEGER PRIMARY KEY, title varchar(250) NOT NULL UNIQUE, author varchar(250) NOT NULL, rating FLOAT NOT NULL)\")\n",
    "\n",
    "# # insert data into the table \n",
    "# # NOTE: the create a table code above must be commented out before we insert data into the table\n",
    "# cursor.execute(\"INSERT INTO books VALUES(2, 'Elon Musk', 'Ashlee Vance', '9.5')\")\n",
    "# db.commit()"
   ]
  },
  {
   "cell_type": "code",
   "execution_count": null,
   "metadata": {},
   "outputs": [],
   "source": []
  }
 ],
 "metadata": {
  "kernelspec": {
   "display_name": "base",
   "language": "python",
   "name": "python3"
  },
  "language_info": {
   "codemirror_mode": {
    "name": "ipython",
    "version": 3
   },
   "file_extension": ".py",
   "mimetype": "text/x-python",
   "name": "python",
   "nbconvert_exporter": "python",
   "pygments_lexer": "ipython3",
   "version": "3.11.7"
  }
 },
 "nbformat": 4,
 "nbformat_minor": 2
}
